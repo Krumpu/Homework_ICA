{
  "nbformat": 4,
  "nbformat_minor": 0,
  "metadata": {
    "colab": {
      "provenance": [],
      "authorship_tag": "ABX9TyNl2k5lZiSOZdtmWQHylHhg",
      "include_colab_link": true
    },
    "kernelspec": {
      "name": "python3",
      "display_name": "Python 3"
    },
    "language_info": {
      "name": "python"
    }
  },
  "cells": [
    {
      "cell_type": "markdown",
      "metadata": {
        "id": "view-in-github",
        "colab_type": "text"
      },
      "source": [
        "<a href=\"https://colab.research.google.com/github/Krumpu/Homework_ICA/blob/main/HW_1_ICA.ipynb\" target=\"_parent\"><img src=\"https://colab.research.google.com/assets/colab-badge.svg\" alt=\"Open In Colab\"/></a>"
      ]
    },
    {
      "cell_type": "code",
      "execution_count": 1,
      "metadata": {
        "id": "eVf0pZtBCpsS"
      },
      "outputs": [],
      "source": [
        "import numpy as np\n",
        "import pandas as pd\n",
        "import matplotlib.pyplot as plt"
      ]
    },
    {
      "cell_type": "code",
      "source": [
        "url = \"https://raw.githubusercontent.com/Krumpu/Homework_ICA/main/Data-Melbourne_F.csv\"\n",
        "df = pd.read_csv(url, sep='\\t')\n",
        "print(df.head())\n"
      ],
      "metadata": {
        "colab": {
          "base_uri": "https://localhost:8080/"
        },
        "id": "_0tSzjsBxevS",
        "outputId": "67760124-ef4a-43c7-c9ec-eb9c15d3c4b7"
      },
      "execution_count": 10,
      "outputs": [
        {
          "output_type": "stream",
          "name": "stdout",
          "text": [
            "  avg_outflow,avg_inflow,total_grid,Am,BOD,COD,TN,T,TM,Tm,SLP,H,PP,VV,V,VM,VG,year,month,day\n",
            "0  2.941,2.589,175856,27,365,730,60.378,19.3,25.1...                                        \n",
            "1  2.936,2.961,181624,25,370,740,60.026,17.1,23.6...                                        \n",
            "2  2.928,3.225,202016,42,418,836,64.522,16.8,27.2...                                        \n",
            "3  2.928,3.354,207547,36,430,850,63,14.6,19.9,11....                                        \n",
            "4  2.917,3.794,202824,46,508,1016,65.59,13.4,19.1...                                        \n"
          ]
        }
      ]
    }
  ]
}