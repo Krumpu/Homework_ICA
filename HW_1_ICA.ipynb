{
 "cells": [
  {
   "cell_type": "markdown",
   "metadata": {
    "colab_type": "text",
    "id": "view-in-github"
   },
   "source": [
    "<a href=\"https://colab.research.google.com/github/Krumpu/Homework_ICA/blob/main/HW_1_ICA.ipynb\" target=\"_parent\"><img src=\"https://colab.research.google.com/assets/colab-badge.svg\" alt=\"Open In Colab\"/></a>"
   ]
  },
  {
   "cell_type": "code",
   "execution_count": 1,
   "metadata": {
    "id": "eVf0pZtBCpsS"
   },
   "outputs": [],
   "source": [
    "import numpy as np\n",
    "import pandas as pd\n",
    "import matplotlib.pyplot as plt"
   ]
  },
  {
   "cell_type": "code",
   "execution_count": 14,
   "metadata": {
    "colab": {
     "base_uri": "https://localhost:8080/"
    },
    "id": "_0tSzjsBxevS",
    "outputId": "67760124-ef4a-43c7-c9ec-eb9c15d3c4b7"
   },
   "outputs": [
    {
     "name": "stdout",
     "output_type": "stream",
     "text": [
      "   avg_outflow  avg_inflow  total_grid    Am    BOD     COD      TN     T  \\\n",
      "0        2.941       2.589      175856  27.0  365.0   730.0  60.378  19.3   \n",
      "1        2.936       2.961      181624  25.0  370.0   740.0  60.026  17.1   \n",
      "2        2.928       3.225      202016  42.0  418.0   836.0  64.522  16.8   \n",
      "3        2.928       3.354      207547  36.0  430.0   850.0  63.000  14.6   \n",
      "4        2.917       3.794      202824  46.0  508.0  1016.0  65.590  13.4   \n",
      "\n",
      "     TM    Tm  SLP   H    PP    VV     V    VM    VG  year  month  day  \n",
      "0  25.1  12.6  0.0  56  1.52  10.0  26.9  53.5  79.5  2014      1    1  \n",
      "1  23.6  12.3  0.0  63  0.00  10.0  14.4  27.8   0.0  2014      1    2  \n",
      "2  27.2   8.8  0.0  47  0.25  10.0  31.9  61.1  77.8  2014      1    5  \n",
      "3  19.9  11.1  0.0  49  0.00  10.0  27.0  38.9  53.5  2014      1    6  \n",
      "4  19.1   8.0  0.0  65  0.00  10.0  20.6  35.2  53.5  2014      1    7  \n"
     ]
    }
   ],
   "source": [
    "url = \"https://raw.githubusercontent.com/Krumpu/Homework_ICA/main/Data-Melbourne_F.csv\"\n",
    "df = pd.read_csv(url)\n",
    "print(df.head())\n"
   ]
  },
  {
   "cell_type": "code",
   "execution_count": null,
   "metadata": {},
   "outputs": [],
   "source": []
  },
  {
   "cell_type": "code",
   "execution_count": null,
   "metadata": {},
   "outputs": [],
   "source": []
  },
  {
   "cell_type": "code",
   "execution_count": null,
   "metadata": {},
   "outputs": [],
   "source": []
  }
 ],
 "metadata": {
  "colab": {
   "authorship_tag": "ABX9TyNl2k5lZiSOZdtmWQHylHhg",
   "include_colab_link": true,
   "provenance": []
  },
  "kernelspec": {
   "display_name": "Python 3 (ipykernel)",
   "language": "python",
   "name": "python3"
  },
  "language_info": {
   "codemirror_mode": {
    "name": "ipython",
    "version": 3
   },
   "file_extension": ".py",
   "mimetype": "text/x-python",
   "name": "python",
   "nbconvert_exporter": "python",
   "pygments_lexer": "ipython3",
   "version": "3.13.7"
  }
 },
 "nbformat": 4,
 "nbformat_minor": 4
}
