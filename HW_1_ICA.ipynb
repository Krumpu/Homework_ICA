{
  "cells": [
    {
      "cell_type": "markdown",
      "metadata": {
        "id": "view-in-github",
        "colab_type": "text"
      },
      "source": [
        "<a href=\"https://colab.research.google.com/github/Krumpu/Homework_ICA/blob/main/HW_1_ICA.ipynb\" target=\"_parent\"><img src=\"https://colab.research.google.com/assets/colab-badge.svg\" alt=\"Open In Colab\"/></a>"
      ]
    },
    {
      "cell_type": "code",
      "execution_count": 4,
      "metadata": {
        "id": "eVf0pZtBCpsS"
      },
      "outputs": [],
      "source": [
        "import numpy as np\n",
        "import pandas as pd\n",
        "import matplotlib.pyplot as plt\n",
        "plt.style.use('_mpl-gallery')"
      ]
    },
    {
      "cell_type": "markdown",
      "source": [],
      "metadata": {
        "id": "FXYQlsBtuEAy"
      }
    },
    {
      "cell_type": "code",
      "execution_count": 6,
      "metadata": {
        "colab": {
          "base_uri": "https://localhost:8080/"
        },
        "id": "_0tSzjsBxevS",
        "outputId": "122ee3e8-a649-44df-cbb4-34b99f6ef2c3"
      },
      "outputs": [
        {
          "output_type": "stream",
          "name": "stdout",
          "text": [
            "Number of Observations (N):  1382\n",
            "Number of Predictor Variables (D):  16\n",
            "count    1382.000000\n",
            "mean      382.061708\n",
            "std        85.996012\n",
            "min       140.000000\n",
            "25%       330.000000\n",
            "50%       360.000000\n",
            "75%       422.980000\n",
            "max       850.000000\n",
            "Name: BOD, dtype: float64\n",
            "count    1382.000000\n",
            "mean      845.960434\n",
            "std       145.416540\n",
            "min       360.000000\n",
            "25%       751.250000\n",
            "50%       845.000000\n",
            "75%       920.000000\n",
            "max      1700.000000\n",
            "Name: COD, dtype: float64\n"
          ]
        }
      ],
      "source": [
        "url = 'https://raw.githubusercontent.com/Krumpu/Homework_ICA/main/Data-Melbourne_F.csv'\n",
        "df = pd.read_csv(url)\n",
        "\n",
        "# We can remove \"year\", \"month\" and \"day\" columns,\n",
        "# since we did no time series analysis today...\n",
        "# \"VG\" is removed, we do not have any info about\n",
        "df = df.drop(['VG', 'year', 'month', 'day'], axis=1)\n",
        "\n",
        "# Information about our data set\n",
        "print('Number of Observations (N): ', df.shape[0])\n",
        "print('Number of Predictor Variables (D): ', df.shape[1])\n",
        "\n",
        "df.head()\n",
        "\n",
        "print(df[\"BOD\"].describe())\n",
        "print(df[\"COD\"].describe())\n"
      ]
    },
    {
      "cell_type": "markdown",
      "source": [
        "#**Classes**\n",
        "\n",
        "Para melhor esclarecimento iremos usar duas variaveis como indicadores de economia/deseperdicio durante o tratamento. Sendo elas COD e BOD sendo respectivamente Chemical Oxygen Demand (mg/L) e Biological Oxygen Demand (mg/L). para nossas classes podemos divir o intervalo desses indicadores em n partes, e usar essas partes para predizer a saída. \\\n",
        "Chemical Oxygen Demand(COD), indica a quantidade de oxigênio utilizado durante a reação quimica para consumir contaminantes presentes. \\\n",
        "Biological Oxygen Demand(BOD), é a unidade de medida utilizada para determinar a quantidade de oxigênio utilizado por organismos biológicos aeróbicos.\\\n",
        "Tendo esses dois indicativos iremos forma 4 classes, sendo elas as combinações dos dois intervalos medios de COD E BOD.\n"
      ],
      "metadata": {
        "id": "IbvXK85175TU"
      }
    },
    {
      "cell_type": "code",
      "execution_count": null,
      "metadata": {
        "id": "7iUveLx2w5Zi"
      },
      "outputs": [],
      "source": [
        "uncond_analysis = pd.DataFrame(columns=['name', 'mean', 'standard_deviation', 'skewness'])\n",
        "\n",
        "for i, predictor in enumerate(df.columns):\n",
        "    uncond_analysis.loc[i] = [predictor, df[predictor].mean(), df[predictor].std(), df[predictor].skew()]\n",
        "\n",
        "    fig, axs = plt.subplots(1, 2, figsize=(16,8))\n",
        "\n",
        "    _, bins, _ = axs[0].hist(df[predictor], bins=16, linewidth=0.5, edgecolor='white')\n",
        "    axs[0].set(xticks=bins[::2], title=f'{predictor} histogram')\n",
        "    axs[1].boxplot(df[predictor], patch_artist=True,\n",
        "                medianprops={\"color\": \"white\", \"linewidth\": 0.5},\n",
        "                boxprops={\"facecolor\": \"C0\", \"edgecolor\": \"white\",\n",
        "                          \"linewidth\": 0.5},\n",
        "                whiskerprops={\"color\": \"C0\", \"linewidth\": 1.5},\n",
        "                capprops={\"color\": \"C0\", \"linewidth\": 1.5})\n",
        "    axs[1].set(title=f'{predictor} boxplot')\n",
        "\n",
        "# For index starting at 1\n",
        "uncond_analysis.index = uncond_analysis.index + 1\n",
        "uncond_analysis"
      ]
    },
    {
      "cell_type": "code",
      "execution_count": null,
      "metadata": {
        "id": "jtTCfyDNw5Zk"
      },
      "outputs": [],
      "source": [
        "\n"
      ]
    }
  ],
  "metadata": {
    "colab": {
      "provenance": [],
      "include_colab_link": true
    },
    "kernelspec": {
      "display_name": "Python 3 (ipykernel)",
      "language": "python",
      "name": "python3"
    },
    "language_info": {
      "codemirror_mode": {
        "name": "ipython",
        "version": 3
      },
      "file_extension": ".py",
      "mimetype": "text/x-python",
      "name": "python",
      "nbconvert_exporter": "python",
      "pygments_lexer": "ipython3",
      "version": "3.13.8"
    }
  },
  "nbformat": 4,
  "nbformat_minor": 0
}